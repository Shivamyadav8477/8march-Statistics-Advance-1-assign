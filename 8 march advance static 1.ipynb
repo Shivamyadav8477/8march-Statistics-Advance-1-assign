{
 "cells": [
  {
   "cell_type": "code",
   "execution_count": null,
   "id": "c65ec0f5-7829-4854-8951-b1cc42daee13",
   "metadata": {},
   "outputs": [],
   "source": [
    "Q1. What is the Probability density function?"
   ]
  },
  {
   "cell_type": "code",
   "execution_count": null,
   "id": "5c082e16-6898-46fe-8377-25ef0d55f1a0",
   "metadata": {},
   "outputs": [],
   "source": [
    "The Probability Density Function (PDF) is a fundamental concept in probability and statistics, particularly in the context of continuous random variables. It defines the likelihood of a continuous random variable taking on a specific value or falling within a certain range of values. The PDF provides a way to describe the probability distribution of a continuous random variable.\n",
    "\n",
    "Key characteristics of the Probability Density Function (PDF) include:\n",
    "\n",
    "1. **Continuous Random Variables:** The PDF is primarily used for continuous random variables, as opposed to discrete random variables, which are described using probability mass functions (PMFs).\n",
    "\n",
    "2. **Non-Negative Values:** The PDF is non-negative for all possible values of the random variable. In other words, the PDF is always greater than or equal to zero.\n",
    "\n",
    "3. **Area Under the Curve:** The total area under the PDF curve over the entire range of possible values is equal to 1. This means that the probability of the random variable taking on any value within its range is 1, which is a fundamental property of probability.\n",
    "\n",
    "Mathematically, the Probability Density Function is typically denoted as \\(f(x)\\), where \\(x\\) represents the possible values of the continuous random variable. The PDF satisfies the following properties:\n",
    "\n",
    "- \\(f(x) \\geq 0\\) for all \\(x\\) (non-negativity).\n",
    "- \\(\\int_{-\\infty}^{\\infty} f(x)dx = 1\\) (total area under the curve equals 1).\n",
    "\n",
    "The probability that the random variable falls within a certain range \\([a, b]\\) is calculated by integrating the PDF over that range:\n",
    "\n",
    "\\[P(a \\leq X \\leq b) = \\int_{a}^{b} f(x)dx\\]\n",
    "\n",
    "The shape of the PDF curve depends on the specific probability distribution of the random variable. Common continuous probability distributions, such as the normal distribution, exponential distribution, and uniform distribution, have well-defined PDFs with distinctive shapes.\n",
    "\n",
    "For example, the PDF of a standard normal distribution (with mean 0 and standard deviation 1) is a bell-shaped curve known as the standard normal curve.\n",
    "\n",
    "Understanding the PDF is essential for various statistical analyses, including calculating probabilities, expected values, and performing hypothesis tests for continuous random variables."
   ]
  },
  {
   "cell_type": "code",
   "execution_count": null,
   "id": "e86f4143-ea46-4e4a-86ed-b82510414ff3",
   "metadata": {},
   "outputs": [],
   "source": [
    "Q2. What are the types of Probability distribution?"
   ]
  },
  {
   "cell_type": "code",
   "execution_count": null,
   "id": "fd9fa170-8abd-4afa-a106-fa79d3eb5a79",
   "metadata": {},
   "outputs": [],
   "source": [
    "There are several types of probability distributions in statistics, each with its own characteristics and applications. The choice of distribution depends on the nature of the random variable being studied. Some common types of probability distributions include:\n",
    "\n",
    "1. **Discrete Probability Distributions:**\n",
    "   - **Bernoulli Distribution:** Models a random experiment with two possible outcomes (success or failure), often used for binary events.\n",
    "   - **Binomial Distribution:** Represents the number of successes in a fixed number of independent Bernoulli trials.\n",
    "   - **Poisson Distribution:** Describes the number of events occurring in a fixed interval of time or space, typically rare events.\n",
    "\n",
    "2. **Continuous Probability Distributions:**\n",
    "   - **Normal Distribution:** A bell-shaped distribution characterized by its mean and standard deviation, commonly used to model real-world data.\n",
    "   - **Exponential Distribution:** Models the time between events in a Poisson process, often used in reliability analysis.\n",
    "   - **Uniform Distribution:** All values within a given interval are equally likely, often used for random sampling or simulation.\n",
    "   - **Log-Normal Distribution:** The natural logarithm of the random variable follows a normal distribution, often used for modeling positively skewed data.\n",
    "   - **Gamma Distribution:** Generalizes the exponential distribution, often used in modeling waiting times and queuing systems.\n",
    "   - **Weibull Distribution:** Used for modeling time-to-failure data in reliability engineering.\n",
    "\n",
    "3. **Multinomial Distribution:** Represents the probability of observing each of multiple categories or outcomes in a single trial.\n",
    "\n",
    "4. **Hypergeometric Distribution:** Models the probability of drawing a specified number of successes from a finite population without replacement.\n",
    "\n",
    "5. **Geometric Distribution:** Represents the number of trials needed to achieve the first success in a sequence of Bernoulli trials.\n",
    "\n",
    "6. **Negative Binomial Distribution:** Models the number of trials needed to achieve a specified number of successes in a sequence of Bernoulli trials.\n",
    "\n",
    "7. **Chi-Square Distribution:** Used in hypothesis testing and confidence interval calculations, often in the context of chi-square tests.\n",
    "\n",
    "8. **Student's t-Distribution:** Used for inference about population means, particularly in small sample sizes or when the population standard deviation is unknown.\n",
    "\n",
    "9. **F-Distribution:** Used in hypothesis testing, particularly in analysis of variance (ANOVA) and regression analysis.\n",
    "\n",
    "10. **Beta Distribution:** Represents continuous probability distributions of random variables constrained to the interval [0, 1], often used in Bayesian statistics.\n",
    "\n",
    "11. **Cauchy Distribution:** Lacks defined moments, often used in physics and as a counterexample in probability theory.\n",
    "\n",
    "These are some of the most commonly encountered probability distributions in statistics. The choice of distribution depends on the specific characteristics of the data and the statistical analysis being performed. Different distributions are appropriate for modeling different types of random variables and real-world phenomena."
   ]
  },
  {
   "cell_type": "code",
   "execution_count": null,
   "id": "4c78a0d1-7942-4e92-b066-fa67d82af869",
   "metadata": {},
   "outputs": [],
   "source": [
    "Q3. Write a Python function to calculate the probability density function of a normal distribution with\n",
    "given mean and standard deviation at a given point."
   ]
  },
  {
   "cell_type": "code",
   "execution_count": null,
   "id": "9e5aa057-3081-432f-b153-de250f60dd5a",
   "metadata": {},
   "outputs": [],
   "source": [
    "You can calculate the probability density function (PDF) of a normal distribution at a given point using Python's SciPy library, which provides a norm module for working with normal distributions. Here's a Python function to calculate the PDF of a normal distribution:"
   ]
  },
  {
   "cell_type": "code",
   "execution_count": 1,
   "id": "ea8fb369-3cd0-40c8-a5cb-74d076e4cfa0",
   "metadata": {},
   "outputs": [
    {
     "name": "stdout",
     "output_type": "stream",
     "text": [
      "PDF at x=1.5 is 0.12951759566589174\n"
     ]
    }
   ],
   "source": [
    "import scipy.stats as stats\n",
    "\n",
    "def calculate_normal_pdf(x, mean, std_dev):\n",
    "    \"\"\"\n",
    "    Calculate the Probability Density Function (PDF) of a normal distribution at a given point.\n",
    "\n",
    "    Parameters:\n",
    "    - x: The point at which to calculate the PDF.\n",
    "    - mean: The mean (average) of the normal distribution.\n",
    "    - std_dev: The standard deviation of the normal distribution.\n",
    "\n",
    "    Returns:\n",
    "    - pdf: The PDF value at the given point.\n",
    "    \"\"\"\n",
    "    pdf = stats.norm.pdf(x, loc=mean, scale=std_dev)\n",
    "    return pdf\n",
    "\n",
    "# Example usage:\n",
    "mean = 0\n",
    "std_dev = 1\n",
    "x = 1.5\n",
    "pdf_value = calculate_normal_pdf(x, mean, std_dev)\n",
    "print(f\"PDF at x={x} is {pdf_value}\")\n"
   ]
  },
  {
   "cell_type": "code",
   "execution_count": null,
   "id": "67b0675f-77b8-4eb0-8873-41a8bcde2a52",
   "metadata": {},
   "outputs": [],
   "source": [
    "In this code:\n",
    "\n",
    "We import the scipy.stats module as stats to access the normal distribution functions.\n",
    "The calculate_normal_pdf function takes three parameters: the point x at which to calculate the PDF, the mean of the normal distribution (mean), and the standard deviation of the normal distribution (std_dev).\n",
    "Inside the function, we use stats.norm.pdf(x, loc=mean, scale=std_dev) to calculate the PDF value at the specified point x for the given mean and standard deviation.\n",
    "You can change the values of mean, std_dev, and x in the example usage to calculate the PDF at different points for different normal distributions."
   ]
  },
  {
   "cell_type": "code",
   "execution_count": null,
   "id": "f832259d-a9e9-4535-b9a9-f0795a41c708",
   "metadata": {},
   "outputs": [],
   "source": [
    "Q4. What are the properties of Binomial distribution? Give two examples of events where binomial\n",
    "distribution can be applied."
   ]
  },
  {
   "cell_type": "code",
   "execution_count": null,
   "id": "adc86727-cc16-4347-9f4e-a7f6f6d8b29d",
   "metadata": {},
   "outputs": [],
   "source": [
    "The binomial distribution is a discrete probability distribution that models the number of successes (usually denoted as \"k\") in a fixed number of independent Bernoulli trials or experiments. The binomial distribution has several key properties:\n",
    "\n",
    "1. **Fixed Number of Trials (n):** The binomial distribution is based on a fixed number of trials or experiments, denoted as \"n.\" Each trial can result in one of two possible outcomes: success or failure.\n",
    "\n",
    "2. **Independent Trials:** The trials are independent, meaning the outcome of one trial does not affect the outcome of the others. This property is often referred to as \"independence.\"\n",
    "\n",
    "3. **Constant Probability of Success (p):** The probability of success (e.g., the probability of getting a \"success\" in each trial) is constant for all trials and is denoted as \"p.\"\n",
    "\n",
    "4. **Binary Outcomes:** Each trial has only two possible outcomes: success (usually denoted as \"1\") and failure (usually denoted as \"0\").\n",
    "\n",
    "5. **Discreteness:** The binomial distribution is discrete, meaning it deals with whole numbers (non-negative integers) for the number of successes.\n",
    "\n",
    "The probability mass function (PMF) of the binomial distribution is given by:\n",
    "\n",
    "\\[ P(X = k) = \\binom{n}{k} \\cdot p^k \\cdot (1-p)^{n-k} \\]\n",
    "\n",
    "Where:\n",
    "- \\( P(X = k) \\) is the probability of getting exactly \"k\" successes.\n",
    "- \\( \\binom{n}{k} \\) represents the binomial coefficient, also known as \"n choose k,\" which counts the number of ways to choose \"k\" successes out of \"n\" trials.\n",
    "- \\( p \\) is the probability of success in a single trial.\n",
    "- \\( 1-p \\) is the probability of failure in a single trial.\n",
    "\n",
    "**Two Examples of Events Modeled by the Binomial Distribution:**\n",
    "\n",
    "1. **Coin Flips:** The binomial distribution can be applied to model the number of heads (successes) obtained when flipping a coin a fixed number of times (n) with a known probability of getting heads (p). For example, if you flip a fair coin 10 times (n = 10), the number of heads (k) follows a binomial distribution with p = 0.5 (assuming the coin is unbiased).\n",
    "\n",
    "2. **Quality Control:** In manufacturing or quality control, the binomial distribution can be used to model the number of defective items in a sample of products. For instance, if you inspect 100 randomly selected items from a production line where each item has a known probability of being defective (p), the number of defective items in the sample (k) can be modeled using a binomial distribution.\n",
    "\n",
    "The binomial distribution is a fundamental concept in probability and statistics, and it is widely applied in various fields to model discrete, binary events with a fixed number of trials."
   ]
  },
  {
   "cell_type": "code",
   "execution_count": null,
   "id": "cba71c33-0530-41f0-bd76-851a14b60b8a",
   "metadata": {},
   "outputs": [],
   "source": [
    "Q5. Generate a random sample of size 1000 from a binomial distribution with probability of success 0.4\n",
    "and plot a histogram of the results using matplotlib."
   ]
  },
  {
   "cell_type": "code",
   "execution_count": null,
   "id": "3ab2582d-0027-49f5-8f79-5c5f7fcdf998",
   "metadata": {},
   "outputs": [],
   "source": [
    "To generate a random sample of size 1000 from a binomial distribution with a probability of success \n",
    "�\n",
    "=\n",
    "0.4\n",
    "p=0.4 and plot a histogram of the results using Matplotlib in Python, you can use the following code:"
   ]
  },
  {
   "cell_type": "code",
   "execution_count": 2,
   "id": "cce6999c-e3fe-4a6c-8f05-b86b2bff013d",
   "metadata": {},
   "outputs": [
    {
     "data": {
      "image/png": "[encoded data removed]",
      "text/plain": [
       "<Figure size 640x480 with 1 Axes>"
      ]
     },
     "metadata": {},
     "output_type": "display_data"
    }
   ],
   "source": [
    "import numpy as np\n",
    "import matplotlib.pyplot as plt\n",
    "\n",
    "# Set the seed for reproducibility\n",
    "np.random.seed(0)\n",
    "\n",
    "# Generate a random sample of size 1000 from a binomial distribution\n",
    "sample_size = 1000\n",
    "probability_of_success = 0.4\n",
    "random_sample = np.random.binomial(1, probability_of_success, sample_size)\n",
    "\n",
    "# Plot a histogram of the random sample\n",
    "plt.hist(random_sample, bins=[-0.5, 0.5, 1.5], edgecolor='black', alpha=0.7)\n",
    "plt.xticks([0, 1], ['Failure', 'Success'])\n",
    "plt.xlabel('Outcome')\n",
    "plt.ylabel('Frequency')\n",
    "plt.title('Binomial Distribution (n=1, p=0.4) - Random Sample')\n",
    "plt.grid(axis='y', linestyle='--', alpha=0.7)\n",
    "plt.show()\n"
   ]
  },
  {
   "cell_type": "code",
   "execution_count": null,
   "id": "acc4ea7d-3057-4fda-a694-e4742f59f2cf",
   "metadata": {},
   "outputs": [],
   "source": [
    "In this code:\n",
    "\n",
    "We import the necessary libraries, NumPy for random number generation and Matplotlib for plotting.\n",
    "\n",
    "We set the random seed to 0 to ensure reproducibility of the results.\n",
    "\n",
    "We generate a random sample of size 1000 from a binomial distribution using np.random.binomial(1, probability_of_success, sample_size). Here, 1 represents the number of trials (each trial can result in success or failure), probability_of_success is the probability of success in each trial, and sample_size is the size of the sample.\n",
    "\n",
    "We plot a histogram of the random sample using Matplotlib's plt.hist function. We specify the number of bins, edgecolor, and labels for the x-axis. Additionally, we set the x-axis labels to 'Failure' and 'Success', add labels, a title, and grid lines for clarity.\n",
    "\n",
    "Running this code will generate a histogram that displays the distribution of successes (1) and failures (0) in the random sample of 1000 trials with a success probability of 0.4"
   ]
  },
  {
   "cell_type": "code",
   "execution_count": null,
   "id": "dfd7e8ba-0cc7-44a0-8b39-e0b2b7628f13",
   "metadata": {},
   "outputs": [],
   "source": [
    "Q6. Write a Python function to calculate the cumulative distribution function of a Poisson distribution\n",
    "with given mean at a given point."
   ]
  },
  {
   "cell_type": "code",
   "execution_count": null,
   "id": "f002c267-ed99-405a-8ac7-46721e1a4f07",
   "metadata": {},
   "outputs": [],
   "source": [
    "You can calculate the Cumulative Distribution Function (CDF) of a Poisson distribution with a given mean at a specific point using Python. The CDF represents the probability that a Poisson-distributed random variable takes a value less than or equal to a given point. Here's a Python function to calculate the CDF of a Poisson distribution:"
   ]
  },
  {
   "cell_type": "code",
   "execution_count": 3,
   "id": "51224eee-2476-427b-b64e-7cf60d206297",
   "metadata": {},
   "outputs": [
    {
     "name": "stdout",
     "output_type": "stream",
     "text": [
      "CDF at k=2 is 0.42319008112684364\n"
     ]
    }
   ],
   "source": [
    "import scipy.stats as stats\n",
    "\n",
    "def calculate_poisson_cdf(k, mu):\n",
    "    \"\"\"\n",
    "    Calculate the Cumulative Distribution Function (CDF) of a Poisson distribution.\n",
    "\n",
    "    Parameters:\n",
    "    - k: The point at which to calculate the CDF.\n",
    "    - mu: The mean of the Poisson distribution.\n",
    "\n",
    "    Returns:\n",
    "    - cdf: The CDF value at the given point.\n",
    "    \"\"\"\n",
    "    cdf = stats.poisson.cdf(k, mu)\n",
    "    return cdf\n",
    "\n",
    "# Example usage:\n",
    "mu = 3  # Mean of the Poisson distribution\n",
    "k = 2   # Point at which to calculate the CDF\n",
    "cdf_value = calculate_poisson_cdf(k, mu)\n",
    "print(f\"CDF at k={k} is {cdf_value}\")\n"
   ]
  },
  {
   "cell_type": "code",
   "execution_count": null,
   "id": "80ee74b1-bc78-4340-9548-eafdb64b501c",
   "metadata": {},
   "outputs": [],
   "source": [
    "In this code:\n",
    "\n",
    "We import the scipy.stats module as stats to access the Poisson distribution functions.\n",
    "\n",
    "The calculate_poisson_cdf function takes two parameters: the point k at which to calculate the CDF and the mean mu of the Poisson distribution.\n",
    "\n",
    "Inside the function, we use stats.poisson.cdf(k, mu) to calculate the CDF value at the specified point k for the given mean mu.\n",
    "\n",
    "You can change the values of mu and k in the example usage to calculate the CDF at different points for different Poisson distributions."
   ]
  },
  {
   "cell_type": "code",
   "execution_count": null,
   "id": "fbeb5285-938f-42a4-a312-37e2a1d25e27",
   "metadata": {},
   "outputs": [],
   "source": [
    "Q7. How Binomial distribution different from Poisson distribution?"
   ]
  },
  {
   "cell_type": "code",
   "execution_count": null,
   "id": "4ad7b6ef-714d-4cc3-82c8-e4b15879e717",
   "metadata": {},
   "outputs": [],
   "source": [
    "The binomial distribution and the Poisson distribution are both probability distributions used in statistics to model different types of discrete random variables. Here are the key differences between them:\n",
    "\n",
    "1. Nature of Events:\n",
    "   - Binomial Distribution: The binomial distribution is used to model the number of successes in a fixed number of independent Bernoulli trials (experiments with only two possible outcomes: success or failure). Each trial has a constant probability of success (p), and the trials are independent of each other.\n",
    "   \n",
    "   - Poisson Distribution: The Poisson distribution is used to model the number of events that occur in a fixed interval of time or space when the events are rare and randomly occurring. It is often applied to situations where events are infrequent and the exact timing or occurrence of events is not known in advance.\n",
    "\n",
    "2. Parameters:\n",
    "   - Binomial Distribution: The binomial distribution is characterized by two parameters: n (the number of trials) and p (the probability of success in each trial).\n",
    "\n",
    "   - Poisson Distribution: The Poisson distribution is characterized by a single parameter, λ (lambda), which represents the average rate of occurrence of events in the given interval.\n",
    "\n",
    "3. Random Variables:\n",
    "   - Binomial Distribution: The random variable in a binomial distribution represents the count of successes in a fixed number of trials. It is a discrete integer variable.\n",
    "\n",
    "   - Poisson Distribution: The random variable in a Poisson distribution represents the count of events in a fixed interval of time or space. It is also a discrete integer variable.\n",
    "\n",
    "4. Assumptions:\n",
    "   - Binomial Distribution: Assumes a fixed number of trials (n) and that the probability of success (p) remains constant across all trials. It also assumes independence between trials.\n",
    "\n",
    "   - Poisson Distribution: Assumes that events occur randomly and independently within the fixed interval, and the average rate of occurrence (λ) remains constant.\n",
    "\n",
    "5. Limitations:\n",
    "   - Binomial Distribution: The binomial distribution is suitable for modeling situations with a known fixed number of trials. It may not be appropriate for modeling rare events occurring in large populations or continuous processes.\n",
    "\n",
    "   - Poisson Distribution: The Poisson distribution is suitable for modeling rare events, but it may not be appropriate when the rate of occurrence is not approximately constant over the given interval.\n",
    "\n",
    "In summary, the key difference between the binomial distribution and the Poisson distribution lies in the nature of the events they model and the associated parameters. The binomial distribution is used for a fixed number of trials with constant probability of success, while the Poisson distribution is used for modeling rare, random events occurring in a fixed interval with a known average rate of occurrence."
   ]
  },
  {
   "cell_type": "code",
   "execution_count": null,
   "id": "c1df0bdb-1c13-4bb0-a287-d5bba3c9a5f6",
   "metadata": {},
   "outputs": [],
   "source": [
    "Q8. Generate a random sample of size 1000 from a Poisson distribution with mean 5 and calculate the\n",
    "sample mean and variance."
   ]
  },
  {
   "cell_type": "code",
   "execution_count": null,
   "id": "6b929afe-aa1e-4923-8a7c-5d7319895de6",
   "metadata": {},
   "outputs": [],
   "source": [
    "To generate a random sample of size 1000 from a Poisson distribution with a mean of 5, you can use a programming language or statistical software that supports random number generation from probability distributions. Here, I'll provide you with Python code using the numpy library to generate the sample and calculate the sample mean and variance:"
   ]
  },
  {
   "cell_type": "code",
   "execution_count": 4,
   "id": "4a61a8b4-039b-44a8-be06-d4352e8b3c29",
   "metadata": {},
   "outputs": [
    {
     "name": "stdout",
     "output_type": "stream",
     "text": [
      "Sample Mean: 4.94\n",
      "Sample Variance: 4.7664\n"
     ]
    }
   ],
   "source": [
    "import numpy as np\n",
    "\n",
    "# Parameters\n",
    "mean = 5\n",
    "sample_size = 1000\n",
    "\n",
    "# Generate a random sample from a Poisson distribution\n",
    "random_sample = np.random.poisson(mean, sample_size)\n",
    "\n",
    "# Calculate the sample mean and variance\n",
    "sample_mean = np.mean(random_sample)\n",
    "sample_variance = np.var(random_sample)\n",
    "\n",
    "print(\"Sample Mean:\", sample_mean)\n",
    "print(\"Sample Variance:\", sample_variance)\n"
   ]
  },
  {
   "cell_type": "code",
   "execution_count": null,
   "id": "53aa2433-fee1-4256-aa72-040764dec86f",
   "metadata": {},
   "outputs": [],
   "source": [
    "In this code:\n",
    "\n",
    "We import the numpy library as np.\n",
    "We specify the parameters for the Poisson distribution, which include the mean (λ) and the sample size.\n",
    "We use np.random.poisson(mean, sample_size) to generate a random sample of size 1000 from a Poisson distribution with a mean of 5.\n",
    "We calculate the sample mean and variance using np.mean() and np.var() functions, respectively.\n",
    "Finally, we print out the sample mean and sample variance.\n",
    "When you run this code, you will get the sample mean and sample variance based on the generated random sample from the Poisson distribution. Keep in mind that the actual values may vary each time you run the code due to the random nature of the sampling."
   ]
  },
  {
   "cell_type": "code",
   "execution_count": null,
   "id": "a7caea53-368f-4ca7-8662-bf90f431de78",
   "metadata": {},
   "outputs": [],
   "source": [
    "Q9. How mean and variance are related in Binomial distribution and Poisson distribution?"
   ]
  },
  {
   "cell_type": "code",
   "execution_count": null,
   "id": "781e1689-410f-4b97-86c9-abac958973eb",
   "metadata": {},
   "outputs": [],
   "source": [
    "The relationship between the mean (μ) and variance (σ²) in both the Binomial distribution and the Poisson distribution is as follows:\n",
    "\n",
    "1. **Binomial Distribution:**\n",
    "   \n",
    "   - **Mean (μ):** In a binomial distribution, the mean is equal to the product of the number of trials (n) and the probability of success in each trial (p). In mathematical terms, μ = np.\n",
    "\n",
    "   - **Variance (σ²):** The variance of a binomial distribution is calculated as the product of the number of trials (n), the probability of success (p), and the probability of failure (q), where q = 1 - p. In mathematical terms, σ² = npq.\n",
    "\n",
    "   The variance in a binomial distribution tends to be larger when the probability of success (p) is close to 0.5 and smaller when p is close to 0 or 1. When p is very close to 0 or 1, the distribution becomes more \"peaked\" and less spread out, resulting in a smaller variance.\n",
    "\n",
    "2. **Poisson Distribution:**\n",
    "\n",
    "   - **Mean (μ):** In a Poisson distribution, the mean (λ) represents the average rate of occurrence of events in a fixed interval of time or space. The mean is also equal to the variance. In mathematical terms, μ = λ.\n",
    "\n",
    "   - **Variance (σ²):** The variance of a Poisson distribution is also equal to the mean (λ). In mathematical terms, σ² = λ.\n",
    "\n",
    "   In a Poisson distribution, the variance is always equal to the mean, regardless of the specific value of λ. This means that the Poisson distribution has a property called equidispersion, where the spread of values is the same as the average.\n",
    "\n",
    "In summary, the relationship between the mean and variance differs between the Binomial and Poisson distributions:\n",
    "\n",
    "- In the Binomial distribution, the variance is generally larger than the mean and depends on both the number of trials (n) and the probability of success (p).\n",
    "\n",
    "- In the Poisson distribution, the variance is equal to the mean (λ) and is not influenced by any other parameters."
   ]
  },
  {
   "cell_type": "code",
   "execution_count": null,
   "id": "38a8c599-1335-468b-bddd-770a4683e7d4",
   "metadata": {},
   "outputs": [],
   "source": [
    "Q10. In normal distribution with respect to mean position, where does the least frequent data appear?"
   ]
  },
  {
   "cell_type": "code",
   "execution_count": null,
   "id": "33499911-bb1b-4ae4-a856-cbdaf3c08549",
   "metadata": {},
   "outputs": [],
   "source": []
  },
  {
   "cell_type": "code",
   "execution_count": null,
   "id": "3c744fd2-d6e9-42e7-aa71-ecab788ed1b4",
   "metadata": {},
   "outputs": [],
   "source": []
  }
 ],
 "metadata": {
  "kernelspec": {
   "display_name": "Python 3 (ipykernel)",
   "language": "python",
   "name": "python3"
  },
  "language_info": {
   "codemirror_mode": {
    "name": "ipython",
    "version": 3
   },
   "file_extension": ".py",
   "mimetype": "text/x-python",
   "name": "python",
   "nbconvert_exporter": "python",
   "pygments_lexer": "ipython3",
   "version": "3.10.6"
  }
 },
 "nbformat": 4,
 "nbformat_minor": 5
}
